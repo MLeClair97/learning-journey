{
 "cells": [
  {
   "cell_type": "markdown",
   "id": "55e6c4ff",
   "metadata": {},
   "source": [
    "## Day 6: Merging and Joining Data\n",
    "Goal: Master SQL JOINs in pandas\n",
    "\n",
    "First, doing some basic joins:"
   ]
  },
  {
   "cell_type": "code",
   "execution_count": null,
   "id": "107b92ac",
   "metadata": {},
   "outputs": [],
   "source": [
    "import pandas as pd\n",
    "\n",
    "# Sample data setup\n",
    "customers = pd.DataFrame({\n",
    "    'customer_id': [1, 2, 3, 4],\n",
    "    'customer_name': ['Alice Corp', 'Bob Inc', 'Charlie Ltd', 'Delta Co'],\n",
    "    'region': ['North', 'South', 'East', 'West']\n",
    "})\n",
    "\n",
    "orders = pd.DataFrame({\n",
    "    'order_id': [101, 102, 103, 104, 105],\n",
    "    'customer_id': [1, 1, 2, 3, 5],  # Note: customer_id 5 doesn't exist in customers\n",
    "    'total_amount': [1000, 1500, 2000, 750, 3000],\n",
    "    'order_date': ['2023-01-15', '2023-02-20', '2023-01-30', '2023-03-10', '2023-02-05']\n",
    "})\n",
    "\n",
    "# SQL: SELECT * FROM customers c INNER JOIN orders o ON c.customer_id = o.customer_id\n",
    "inner_join = pd.merge(customers, orders, on='customer_id', how='inner')\n",
    "print(\"Inner Join Result:\")\n",
    "print(inner_join)\n",
    "\n",
    "# SQL: SELECT * FROM customers c LEFT JOIN orders o ON c.customer_id = o.customer_id\n",
    "left_join = pd.merge(customers, orders, on='customer_id', how='left')\n",
    "\n",
    "print(\"\\nLeft Join Result:\")\n",
    "print(left_join)    \n",
    "\n",
    "# SQL: SELECT * FROM customers c RIGHT JOIN orders o ON c.customer_id = o.customer_id\n",
    "right_join = pd.merge(customers, orders, on='customer_id', how='right')\n",
    "print(\"\\nRight Join Result:\")\n",
    "print(right_join)\n",
    "\n",
    "# SQL: SELECT * FROM customers c FULL OUTER JOIN orders o ON c.customer_id = o.customer_id\n",
    "outer_join = pd.merge(customers, orders, on='customer_id', how='outer')\n",
    "print(\"\\nOuter Join Result:\")\n",
    "print(outer_join)"
   ]
  },
  {
   "cell_type": "markdown",
   "id": "36219ab4",
   "metadata": {},
   "source": [
    "These are pretty straightforward.  Merge, on, how is logical.\n",
    "\n",
    "*Note*:  Today I learned about \\n next line formatting character that will give a space between the results instead of them being right next to each other.  "
   ]
  },
  {
   "cell_type": "markdown",
   "id": "94525463",
   "metadata": {},
   "source": [
    "Next, Advanced Joining:"
   ]
  },
  {
   "cell_type": "code",
   "execution_count": null,
   "id": "dc5dab27",
   "metadata": {},
   "outputs": [],
   "source": [
    "# Joining on multiple columns with matching column names\n",
    "\n",
    "import pandas as pd\n",
    "\n",
    "# Sample data for multiple column join\n",
    "customers = pd.DataFrame({\n",
    "    'customer_id': [1, 2, 3, 4],\n",
    "    'customer_name': ['Alice Corp', 'Bob Inc', 'Charlie Ltd', 'Delta Co'],\n",
    "    'location': ['New York', 'Los Angeles', 'Chicago', 'Houston'],\n",
    "    'region': ['North', 'South', 'East', 'West']\n",
    "})\n",
    "\n",
    "orders = pd.DataFrame({\n",
    "    'order_id': [101, 102, 103, 104, 105],\n",
    "    'customer_id': [1, 1, 2, 3, 5],  \n",
    "    'total_amount': [1000, 1500, 2000, 750, 3000],\n",
    "    'order_date': ['2023-01-15', '2023-02-20', '2023-01-30', '2023-03-10', '2023-02-05'],\n",
    "    'location': ['New York', 'New York', 'Los Angeles', 'Chicago', 'Miami']\n",
    "})\n",
    "\n",
    "\n",
    "# SQL: JOIN ON table1.col1 = table2.col1 AND table1.col2 = table2.col2 \n",
    "pd.merge(customers, orders, on=['customer_id', 'location'])\n",
    "print(\"Join on multiple columns Result:\")\n",
    "print(pd.merge(customers, orders, on=['customer_id', 'location']))\n",
    "\n",
    "# Joining with suffixes for duplicate column names\n",
    "print(\"\\nJoin with suffixes for duplicate column names:\")\n",
    "# SQL: SELECT * FROM customers c INNER JOIN orders o ON c.customer_id = o.customer_id\n",
    "print(pd.merge(customers, orders, on='customer_id', suffixes=('_left', '_right')))"
   ]
  },
  {
   "cell_type": "code",
   "execution_count": null,
   "id": "47515663",
   "metadata": {},
   "outputs": [],
   "source": [
    "# Joining on multiple columns with different column names\n",
    "\n",
    "import pandas as pd\n",
    "\n",
    "# Sample data for multiple column join\n",
    "customers = pd.DataFrame({\n",
    "    'id': [1, 2, 3, 4],\n",
    "    'customer_name': ['Alice Corp', 'Bob Inc', 'Charlie Ltd', 'Delta Co'],\n",
    "    'location': ['New York', 'Los Angeles', 'Chicago', 'Houston'],\n",
    "    'region': ['North', 'South', 'East', 'West']\n",
    "})\n",
    "\n",
    "orders = pd.DataFrame({\n",
    "    'order_id': [101, 102, 103, 104, 105],\n",
    "    'customer_id': [1, 1, 2, 3, 5],  \n",
    "    'total_amount': [1000, 1500, 2000, 750, 3000],\n",
    "    'order_date': ['2023-01-15', '2023-02-20', '2023-01-30', '2023-03-10', '2023-02-05'],\n",
    "    'location': ['New York', 'New York', 'Los Angeles', 'Chicago', 'Miami']\n",
    "})\n",
    "\n",
    "# SQL: JOIN ON orders.customer_id = customers.id\n",
    "print(\"\\nJoin on different column names Result:\")\n",
    "print(pd.merge(orders, customers, left_on='customer_id', right_on='id'))\n",
    "\n",
    "# Joining on multiple columns with different column names and suffixes\n",
    "print(\"\\nJoin on multiple columns with different names and suffixes Result:\")\n",
    "print(pd.merge(orders, customers, left_on=['customer_id', 'location'], right_on=['id', 'location'], suffixes=('_order', '_customer')))\n",
    "\n"
   ]
  },
  {
   "cell_type": "markdown",
   "id": "2294c496",
   "metadata": {},
   "source": [
    "This is interesting because SQL doesn't have this issue... \n",
    "In pandas, when you merge two DataFrames that have columns with the same name (other than the one you're joining on), those columns would conflict in the resulting DataFrame. To resolve this, you can use the suffixes parameter in pd.merge(). "
   ]
  },
  {
   "cell_type": "code",
   "execution_count": null,
   "id": "fb40ec1b",
   "metadata": {},
   "outputs": [],
   "source": [
    "# Joining with suffixes for duplicate column names\n",
    "\n",
    "import pandas as pd\n",
    "\n",
    "# Sample data for multiple column join\n",
    "customers = pd.DataFrame({\n",
    "    'customer_id': [1, 2, 3, 4],\n",
    "    'customer_name': ['Alice Corp', 'Bob Inc', 'Charlie Ltd', 'Delta Co'],\n",
    "    'location': ['New York', 'Los Angeles', 'Chicago', 'Houston'],\n",
    "    'region': ['North', 'South', 'East', 'West']\n",
    "})\n",
    "\n",
    "orders = pd.DataFrame({\n",
    "    'order_id': [101, 102, 103, 104, 105],\n",
    "    'customer_id': [1, 1, 2, 3, 5],  \n",
    "    'total_amount': [1000, 1500, 2000, 750, 3000],\n",
    "    'order_date': ['2023-01-15', '2023-02-20', '2023-01-30', '2023-03-10', '2023-02-05'],\n",
    "    'location': ['New York', 'New York', 'Los Angeles', 'Chicago', 'Miami']\n",
    "})\n",
    "\n",
    "# SQL: SELECT * FROM customers c INNER JOIN orders o ON c.customer_id = o.customer_id\n",
    "print(\"\\nJoin with suffixes for duplicate column names:\")\n",
    "print(pd.merge(customers, orders, on='customer_id', suffixes=('_left', '_right')))"
   ]
  },
  {
   "cell_type": "markdown",
   "id": "d64bd71a",
   "metadata": {},
   "source": [
    "Suffix Example Breakdown:\n",
    "\n",
    "`customers` and `orders` are being joined on the `customer_id` column.\n",
    "\n",
    "If both DataFrames have a column like `name` or `address`, they would conflict.\n",
    "\n",
    "With `suffixes=('_left', '_right')`, you’d see them renamed like:\n",
    "\n",
    "- `name_left` → from the `customers` DataFrame (left side)\n",
    "- `name_right` → from the `orders` DataFrame (right side)\n"
   ]
  },
  {
   "cell_type": "markdown",
   "id": "16276b0c",
   "metadata": {},
   "source": [
    "____________\n",
    "This pandas code performs an **index-based join** between two DataFrames, similar to a SQL join that uses row numbers or positions rather than specific column values.\n",
    "How it works\n",
    "The `.join()` method merges DataFrames based on their index values (row labels). It's essentially saying \"combine rows that have the same index position.\""
   ]
  },
  {
   "cell_type": "code",
   "execution_count": null,
   "id": "df5339e5",
   "metadata": {},
   "outputs": [],
   "source": [
    "# Index-based joining (like SQL using row numbers)\n",
    "\n",
    "import pandas as pd\n",
    "\n",
    "# Create sample DataFrames\n",
    "df1 = pd.DataFrame({\n",
    "    'name': ['Alice', 'Bob', 'Charlie'],\n",
    "    'score': [85, 90, 78]\n",
    "}, index=[0, 1, 2])\n",
    "\n",
    "df2 = pd.DataFrame({\n",
    "    'name': ['Marketing', 'Engineering', 'Sales'],\n",
    "    'budget': [50000, 80000, 60000]\n",
    "}, index=[0, 1, 2])\n",
    "\n",
    "print(df1.join(df2, lsuffix='_left', rsuffix='_right'))"
   ]
  },
  {
   "cell_type": "markdown",
   "id": "f0207460",
   "metadata": {},
   "source": [
    "Key characteristics of index joins\n",
    "- *Default behavior*: Left join (keeps all rows from df1)\n",
    "- *Index alignment*: Rows are matched by their index values\n",
    "- *Automatic suffixing*: Only applies to columns with duplicate names\n",
    "- *Efficient*: Generally faster than `merge()` for index-based operations\n",
    "This is particularly useful when you have DataFrames that are naturally aligned by their row positions and you want to combine their columns horizontally."
   ]
  },
  {
   "cell_type": "code",
   "execution_count": null,
   "id": "c8fde1b9",
   "metadata": {},
   "outputs": [],
   "source": [
    "# Concatenating dataframes (UNION equivalent) (vertical concatenation)\n",
    "\n",
    "import pandas as pd\n",
    "\n",
    "# Create sample DataFrames (with some overlapping data)\n",
    "df1 = pd.DataFrame({\n",
    "    'name': ['Alice', 'Bob', 'Charlie'],\n",
    "    'department': ['Engineering', 'Sales', 'Marketing'],\n",
    "    'salary': [75000, 65000, 70000]\n",
    "})\n",
    "\n",
    "df2 = pd.DataFrame({\n",
    "    'name': ['Bob', 'Diana', 'Charlie'],  # Bob and Charlie are duplicates\n",
    "    'department': ['Sales', 'Engineering', 'Marketing'],\n",
    "    'salary': [65000, 80000, 70000]\n",
    "})\n",
    "\n",
    "# SQL: SELECT * FROM table1 UNION ALL SELECT * FROM table2\n",
    "# Preserves duplicates: Like UNION ALL, keeps duplicate rows (unlike UNION)\n",
    "# Column alignment: Matches columns by name automatically\n",
    "print(\"\\nConcatenating DataFrames (with duplicates):\")\n",
    "print(pd.concat([df1, df2], ignore_index=True))\n",
    "# Index handling: ignore_index=True creates clean sequential numbering\n",
    "\n",
    "\n",
    "# SQL: SELECT * FROM table1 UNION SELECT * FROM table2 (removes duplicates)\n",
    "print(\"\\nConcatenating DataFrames (removing duplicates):\")\n",
    "print(pd.concat([df1, df2]).drop_duplicates())  \n",
    "\n",
    "# Removes duplicates: Unlike UNION ALL, eliminates identical rows\n",
    "# Preserves original indices: Notice indices 0, 1, 2, 4 (index 3 was dropped as duplicate)\n",
    "# Row-wise comparison: Considers entire rows when identifying duplicates\n",
    "# Maintains order: Generally keeps the first occurrence of duplicate rows\n",
    "# This is useful when combining datasets where you want to eliminate redundant records and create a unique set of rows."
   ]
  }
 ],
 "metadata": {
  "kernelspec": {
   "display_name": ".venv",
   "language": "python",
   "name": "python3"
  },
  "language_info": {
   "codemirror_mode": {
    "name": "ipython",
    "version": 3
   },
   "file_extension": ".py",
   "mimetype": "text/x-python",
   "name": "python",
   "nbconvert_exporter": "python",
   "pygments_lexer": "ipython3",
   "version": "3.13.5"
  }
 },
 "nbformat": 4,
 "nbformat_minor": 5
}
