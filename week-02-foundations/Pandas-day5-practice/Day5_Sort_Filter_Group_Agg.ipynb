{
 "cells": [
  {
   "cell_type": "markdown",
   "id": "168a614e",
   "metadata": {},
   "source": [
    "## Day 5 project tasks, learning:\n",
    "    - Panda Filtering\n",
    "    - Panda Sorting\n",
    "    - Panda Grouping\n",
    "    - Panda Aggregation\n",
    "\n",
    "The goal is to try to recreate queries that I would have used in SQL using panda.\n",
    "\n",
    "Bonus items today: I wanted a better way to see the results than just a subset in the terminal. First I learned to export data to an html file so I could look at it with a web browser.  Then switched to VS Code's Jupyter Extension (notebooks) for ease of logging my work while seeing results. "
   ]
  },
  {
   "cell_type": "markdown",
   "id": "2ee3e5be",
   "metadata": {},
   "source": [
    "Get sample data for the testing process:"
   ]
  },
  {
   "cell_type": "code",
   "execution_count": null,
   "id": "0ae067fd",
   "metadata": {},
   "outputs": [],
   "source": [
    "import pandas as pd\n",
    "\n",
    "# Load Sales Sample Data from the Kaggle\n",
    "filenm = r'C:\\Users\\melis\\OneDrive\\Desktop\\PracticeData\\sales_data_sample.csv'\n",
    "salesdf = pd.read_csv(filenm, encoding='latin1')\n",
    "salesdf.info()"
   ]
  },
  {
   "cell_type": "markdown",
   "id": "2df403b0",
   "metadata": {},
   "source": [
    "SQL to Convert:  SELECT TOP 10 * FROM table ORDER BY column DESC\n",
    "\n",
    "Getting the largest orders, and then the smallest"
   ]
  },
  {
   "cell_type": "code",
   "execution_count": null,
   "id": "983c4ff8",
   "metadata": {},
   "outputs": [],
   "source": [
    "import pandas as pd\n",
    "\n",
    "# Load Sales Sample Data\n",
    "filenm = r'C:\\Users\\melis\\OneDrive\\Desktop\\PracticeData\\sales_data_sample.csv'\n",
    "salesdf = pd.read_csv(filenm, encoding='latin1')\n",
    "\n",
    "salesdf.nlargest(10, 'PRICEEACH')\n",
    "print(salesdf.nlargest(10, 'PRICEEACH')[['CUSTOMERNAME', 'PRICEEACH']].reset_index(drop=True))\n",
    "\n",
    "smallest = salesdf.nsmallest(10, 'PRICEEACH')\n",
    "print(smallest[['CUSTOMERNAME', 'PRICEEACH']].reset_index(drop=True))"
   ]
  },
  {
   "cell_type": "markdown",
   "id": "bb51a4ef",
   "metadata": {},
   "source": [
    "SQL to Convert: Complex conditions\n",
    "\n",
    "SQL: WHERE col1 = 'MA' AND col2 < 1000 OR col4 = 'Disputed'"
   ]
  },
  {
   "cell_type": "code",
   "execution_count": null,
   "id": "ae5c96de",
   "metadata": {},
   "outputs": [],
   "source": [
    "import pandas as pd\n",
    "\n",
    "# Load Sales Sample Data\n",
    "filenm = r'C:\\Users\\melis\\OneDrive\\Desktop\\PracticeData\\sales_data_sample.csv'\n",
    "salesdf = pd.read_csv(filenm, encoding='latin1')\n",
    "\n",
    "salesdf['total_sale'] = salesdf['PRICEEACH'] * salesdf['QUANTITYORDERED']\n",
    "condition = ((salesdf['STATE'] == 'MA') & (salesdf['total_sale'] <1000 )) | (salesdf['STATUS'] == 'Disputed')\n",
    "filtered_salesdf = salesdf[condition]\n",
    "# Display filtered DataFrame\n",
    "print(filtered_salesdf[['STATE','total_sale', 'CUSTOMERNAME', 'STATUS']].reset_index(drop=True))\n"
   ]
  },
  {
   "cell_type": "markdown",
   "id": "b52971f9",
   "metadata": {},
   "source": [
    "SQL - Working with Dates:"
   ]
  },
  {
   "cell_type": "code",
   "execution_count": null,
   "id": "ae5b8cbb",
   "metadata": {},
   "outputs": [],
   "source": [
    "import pandas as pd\n",
    "\n",
    "# Load Sales Sample Data\n",
    "filenm = r'C:\\Users\\melis\\OneDrive\\Desktop\\PracticeData\\sales_data_sample.csv'\n",
    "salesdf = pd.read_csv(filenm, encoding='latin1')\n",
    "\n",
    "# Convert ORDERDATE to datetime\n",
    "salesdf['ORDERDATE'] = pd.to_datetime(salesdf['ORDERDATE'])\n",
    "\n",
    "# Filter: Year 2004 AND Month 12 (December)\n",
    "sales_date = salesdf[\n",
    "    (salesdf['ORDERDATE'].dt.year == 2004) &\n",
    "    (salesdf['ORDERDATE'].dt.month == 12)]\n",
    "\n",
    "# Display ORDERDATE column only, with clean index\n",
    "print(sales_date[['ORDERDATE','CUSTOMERNAME']].reset_index(drop=True))"
   ]
  },
  {
   "cell_type": "markdown",
   "id": "fc0212ad",
   "metadata": {},
   "source": [
    "SQL - Working with Strings:"
   ]
  },
  {
   "cell_type": "code",
   "execution_count": null,
   "id": "9cc90fc0",
   "metadata": {},
   "outputs": [],
   "source": [
    "import pandas as pd\n",
    "\n",
    "# Load Sales Sample Data\n",
    "filenm = r'C:\\Users\\melis\\OneDrive\\Desktop\\PracticeData\\sales_data_sample.csv'\n",
    "salesdf = pd.read_csv(filenm, encoding='latin1')\n",
    "\n",
    "# Find strings that start with 'A'\n",
    "print(salesdf[salesdf['CUSTOMERNAME'].str.startswith('A')][['CUSTOMERNAME', 'TERRITORY']].reset_index(drop=True))\n",
    "\n",
    "# Find strings that end with 'Inc.'\n",
    "filter_Inc = salesdf[salesdf['CUSTOMERNAME'].str.endswith('Inc.')]\n",
    "print(filter_Inc[['CUSTOMERNAME']].reset_index(drop=True))\n",
    "\n",
    "# Convert strings to uppercase\n",
    "salesdf['CUSTOMERNAME'].str.upper()\n",
    "\n",
    "# Replace strings 'Corp' with 'Corporation'\n",
    "filter = salesdf['CUSTOMERNAME'].str.replace('Corp.', 'Corporation', regex=False)\n",
    "print(filter[filter.str.contains('Corporation', na=False)].reset_index(drop=True))\n",
    "\n",
    "\n",
    "# Check if 'Inc' is in CUSTOMERNAME, case insensitive\n",
    "print(salesdf[salesdf['CUSTOMERNAME'].str.contains('Inc', case=False)][['CUSTOMERNAME']].reset_index(drop=True))\n",
    "\n",
    "\n",
    "# Bonus: Saved the DataFrame to an HTML file - this in one way for me to see more of the results of the filering\n",
    "salesdf.to_html(r'C:\\Users\\melis\\OneDrive\\Desktop\\PracticeData\\sales_output.html')\n"
   ]
  },
  {
   "cell_type": "markdown",
   "id": "232917d3",
   "metadata": {},
   "source": [
    "SQL: SELECT region, COUNT(*) FROM table GROUP BY region"
   ]
  },
  {
   "cell_type": "code",
   "execution_count": null,
   "id": "665e4456",
   "metadata": {},
   "outputs": [],
   "source": [
    "import pandas as pd\n",
    "\n",
    "# Load Sales Sample Data\n",
    "filenm = r'C:\\Users\\melis\\OneDrive\\Desktop\\PracticeData\\sales_data_sample.csv'\n",
    "salesdf = pd.read_csv(filenm, encoding='latin1')\n",
    "\n",
    "# Grouping and Count - Count of Sales by State\n",
    "print(\"---Sales Count by State---\")\n",
    "print(salesdf.groupby('STATE').size())\n"
   ]
  },
  {
   "cell_type": "markdown",
   "id": "834153b9",
   "metadata": {},
   "source": [
    "Multiple grouping levels\n",
    "\n",
    "SQL: SELECT country, status, SUM(amount) FROM table GROUP BY country, status\n",
    "\n"
   ]
  },
  {
   "cell_type": "code",
   "execution_count": null,
   "id": "7974628a",
   "metadata": {},
   "outputs": [],
   "source": [
    "import pandas as pd\n",
    "\n",
    "# Load Sales Sample Data\n",
    "filenm = r'C:\\Users\\melis\\OneDrive\\Desktop\\PracticeData\\sales_data_sample.csv'\n",
    "salesdf = pd.read_csv(filenm, encoding='latin1')\n",
    "\n",
    "# Grouping and Aggregation - Sales Amount by Country and Status\n",
    "salesdf['total_amount'] = salesdf['PRICEEACH'] * salesdf['QUANTITYORDERED']\n",
    "salesdf.groupby(['COUNTRY', 'STATUS'])['total_amount'].sum()\n",
    "\n"
   ]
  },
  {
   "cell_type": "markdown",
   "id": "f99da819",
   "metadata": {},
   "source": [
    "SQL: SELECT country, SUM(total_amount) FROM table GROUP BY country HAVING SUM(total_amount) > 10000"
   ]
  },
  {
   "cell_type": "code",
   "execution_count": null,
   "id": "2faf4417",
   "metadata": {},
   "outputs": [],
   "source": [
    "import pandas as pd\n",
    "\n",
    "# Load Sales Sample Data\n",
    "filenm = r'C:\\Users\\melis\\OneDrive\\Desktop\\PracticeData\\sales_data_sample.csv'\n",
    "salesdf = pd.read_csv(filenm, encoding='latin1')\n",
    "\n",
    "# Grouping and Aggregation - Sum and Average of Sales Amount by Region\n",
    "salesdf['total_amount'] = salesdf['PRICEEACH'] * salesdf['QUANTITYORDERED']\n",
    "print(\"---Sales Amount by Country Where Sales Amount is > 1000---\")\n",
    "grouped = salesdf.groupby('COUNTRY')['total_amount'].sum()\n",
    "grouped[grouped > 10000]\n"
   ]
  },
  {
   "cell_type": "markdown",
   "id": "09f18757",
   "metadata": {},
   "source": [
    "SQL: SELECT region, SUM(amount), AVG(amount) FROM table GROUP BY region"
   ]
  },
  {
   "cell_type": "code",
   "execution_count": null,
   "id": "fd609bea",
   "metadata": {},
   "outputs": [],
   "source": [
    "import pandas as pd\n",
    "\n",
    "# Load Sales Sample Data\n",
    "filenm = r'C:\\Users\\melis\\OneDrive\\Desktop\\PracticeData\\sales_data_sample.csv'\n",
    "salesdf = pd.read_csv(filenm, encoding='latin1')\n",
    "\n",
    "# Grouping and Aggregation - Total Sales Amount, Average Sales Amount, Count of Orders, and Latest Order Date by Country\n",
    "salesdf['total_amount'] = salesdf['PRICEEACH'] * salesdf['QUANTITYORDERED']\n",
    "salesdf.groupby('COUNTRY').agg({\n",
    "    'total_amount': ['sum', 'mean', 'count'],\n",
    "    'ORDERDATE': 'max'\n",
    "})\n"
   ]
  },
  {
   "cell_type": "markdown",
   "id": "aba15f51",
   "metadata": {},
   "source": [
    "Custom aggregation functions"
   ]
  },
  {
   "cell_type": "code",
   "execution_count": null,
   "id": "10ceae1c",
   "metadata": {},
   "outputs": [],
   "source": [
    "import pandas as pd\n",
    "\n",
    "# Load Sales Sample Data\n",
    "filenm = r'C:\\Users\\melis\\OneDrive\\Desktop\\PracticeData\\sales_data_sample.csv'\n",
    "salesdf = pd.read_csv(filenm, encoding='latin1')\n",
    "\n",
    "# Custom aggregation functions\n",
    "# Example: Custom aggregation to find the range of total sales amount by country\n",
    "def custom_agg(series):\n",
    "    return series.max() - series.min()\n",
    "salesdf['total_amount'] = salesdf['PRICEEACH'] * salesdf['QUANTITYORDERED']\n",
    "salesdf.groupby('COUNTRY')['total_amount'].agg(custom_agg)"
   ]
  }
 ],
 "metadata": {
  "kernelspec": {
   "display_name": "Python 3",
   "language": "python",
   "name": "python3"
  },
  "language_info": {
   "codemirror_mode": {
    "name": "ipython",
    "version": 3
   },
   "file_extension": ".py",
   "mimetype": "text/x-python",
   "name": "python",
   "nbconvert_exporter": "python",
   "pygments_lexer": "ipython3",
   "version": "3.13.5"
  }
 },
 "nbformat": 4,
 "nbformat_minor": 5
}
