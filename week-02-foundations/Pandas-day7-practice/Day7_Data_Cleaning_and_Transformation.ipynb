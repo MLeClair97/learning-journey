{
 "cells": [
  {
   "cell_type": "markdown",
   "id": "052ec986",
   "metadata": {},
   "source": [
    "Handling Missing Data"
   ]
  },
  {
   "cell_type": "code",
   "execution_count": null,
   "id": "d711ebe8",
   "metadata": {},
   "outputs": [],
   "source": [
    "# Identifying missing data\n",
    "df.isnull().sum()  # Count nulls per column\n",
    "df.isnull().sum() / len(df) * 100  # Percentage of nulls\n",
    "\n",
    "# SQL: SELECT * FROM table WHERE column IS NOT NULL\n",
    "df.dropna(subset=['important_column'])\n",
    "\n",
    "# SQL: UPDATE table SET column = 'Default' WHERE column IS NULL\n",
    "df['column'].fillna('Default Value', inplace=True)\n",
    "\n",
    "# Fill with statistical measures\n",
    "df['numeric_column'].fillna(df['numeric_column'].mean(), inplace=True)\n",
    "df['numeric_column'].fillna(df['numeric_column'].median(), inplace=True)\n",
    "\n",
    "# Forward fill and backward fill\n",
    "df['column'].fillna(method='ffill')  # Use previous valid value\n",
    "df['column'].fillna(method='bfill')  # Use next valid value\n",
    "\n",
    "# Interpolation for numeric data\n",
    "df['numeric_column'].interpolate()"
   ]
  },
  {
   "cell_type": "markdown",
   "id": "262810c2",
   "metadata": {},
   "source": []
  },
  {
   "cell_type": "code",
   "execution_count": 11,
   "id": "f55dcdb9",
   "metadata": {},
   "outputs": [
    {
     "name": "stdout",
     "output_type": "stream",
     "text": [
      "\n",
      "Loaded 'taxis' dataset:\n",
      "Shape: (6433, 14)\n",
      "\n",
      "Columns: ['pickup', 'dropoff', 'passengers', 'distance', 'fare', 'tip', 'tolls', 'total', 'color', 'payment', 'pickup_zone', 'dropoff_zone', 'pickup_borough', 'dropoff_borough']\n",
      "\n",
      "First few rows:\n",
      "               pickup             dropoff  passengers  distance  fare   tip  \\\n",
      "0 2019-03-23 20:21:09 2019-03-23 20:27:24           1      1.60   7.0  2.15   \n",
      "1 2019-03-04 16:11:55 2019-03-04 16:19:00           1      0.79   5.0  0.00   \n",
      "2 2019-03-27 17:53:01 2019-03-27 18:00:25           1      1.37   7.5  2.36   \n",
      "3 2019-03-10 01:23:59 2019-03-10 01:49:51           1      7.70  27.0  6.15   \n",
      "4 2019-03-30 13:27:42 2019-03-30 13:37:14           3      2.16   9.0  1.10   \n",
      "\n",
      "   tolls  total   color      payment            pickup_zone  \\\n",
      "0    0.0  12.95  yellow  credit card        Lenox Hill West   \n",
      "1    0.0   9.30  yellow         cash  Upper West Side South   \n",
      "2    0.0  14.16  yellow  credit card          Alphabet City   \n",
      "3    0.0  36.95  yellow  credit card              Hudson Sq   \n",
      "4    0.0  13.40  yellow  credit card           Midtown East   \n",
      "\n",
      "            dropoff_zone pickup_borough dropoff_borough  \n",
      "0    UN/Turtle Bay South      Manhattan       Manhattan  \n",
      "1  Upper West Side South      Manhattan       Manhattan  \n",
      "2           West Village      Manhattan       Manhattan  \n",
      "3         Yorkville West      Manhattan       Manhattan  \n",
      "4         Yorkville West      Manhattan       Manhattan  \n"
     ]
    }
   ],
   "source": [
    "import pandas as pd\n",
    "import seaborn as sns\n",
    "\n",
    "# Load and inspect a dataset\n",
    "dataset = 'taxis'\n",
    "df = sns.load_dataset(dataset)\n",
    "print(f\"\\nLoaded '{dataset}' dataset:\")\n",
    "print(\"Shape:\", df.shape)\n",
    "print(\"\\nColumns:\", df.columns.tolist())\n",
    "print(\"\\nFirst few rows:\")\n",
    "print(df.head())\n",
    "\n"
   ]
  },
  {
   "cell_type": "code",
   "execution_count": null,
   "id": "c2c0fcb8",
   "metadata": {},
   "outputs": [],
   "source": []
  }
 ],
 "metadata": {
  "kernelspec": {
   "display_name": "Python 3",
   "language": "python",
   "name": "python3"
  },
  "language_info": {
   "codemirror_mode": {
    "name": "ipython",
    "version": 3
   },
   "file_extension": ".py",
   "mimetype": "text/x-python",
   "name": "python",
   "nbconvert_exporter": "python",
   "pygments_lexer": "ipython3",
   "version": "3.13.5"
  }
 },
 "nbformat": 4,
 "nbformat_minor": 5
}
