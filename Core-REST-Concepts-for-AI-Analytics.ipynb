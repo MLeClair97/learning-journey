{
 "cells": [
  {
   "cell_type": "markdown",
   "id": "35c850e7",
   "metadata": {},
   "source": [
    "#### REST API for AI Analytics \n",
    "\n",
    "The key insight is that REST APIs are like digital waiters - they take requests (like \"analyze this sales data\"), communicate with services (like OpenAI's API or your database), and return structured responses (insights, data, status updates).\n",
    "\n",
    "For AI analytics, REST APIs serve as the bridge between your data analysis applications and AI services like OpenAI, Claude, or your own AI models.\n",
    "\n",
    "    (See Day 13 for start of REST work)\n",
    "\n",
    "##### HTTP Methods (Verbs)\n",
    "\n",
    "* GET: Retrieve data or insights (e.g., get analysis results)\n",
    "* POST: Send data for processing (e.g., analyze a dataset)\n",
    "* PUT: Update existing analysis or configuration\n",
    "* DELETE: Remove analysis jobs or cached results\n",
    "\n",
    "##### Status Codes\n",
    "\n",
    "- 200: Success - analysis completed\n",
    "- 201: Created - new analysis job started\n",
    "- 400: Bad request - invalid data format\n",
    "- 401: Unauthorized - invalid API key\n",
    "- 429: Too many requests - rate limit hit\n",
    "- 500: Server error - AI service down"
   ]
  }
 ],
 "metadata": {
  "language_info": {
   "name": "python"
  }
 },
 "nbformat": 4,
 "nbformat_minor": 5
}
