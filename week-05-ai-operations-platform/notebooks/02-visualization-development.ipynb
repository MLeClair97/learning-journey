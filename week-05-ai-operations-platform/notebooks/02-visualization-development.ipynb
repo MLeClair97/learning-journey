{
 "cells": [
  {
   "cell_type": "markdown",
   "id": "46cf1e0d",
   "metadata": {},
   "source": [
    "### Visualization Platform\n",
    "\n",
    "- **8 Different Chart Types:** Stacked bars, heatmaps, gauges, donuts, bubble charts, dual-axis\n",
    "- **Professional Styling:** Dark theme, consistent colors, executive-ready presentation\n",
    "- **Interactive Elements:** Hover details, responsive design, proper legends"
   ]
  },
  {
   "cell_type": "code",
   "execution_count": null,
   "id": "d90e7959",
   "metadata": {},
   "outputs": [],
   "source": [
    "# Visualization Examples\n",
    "fig = px.bar(\n",
    "    x=delivery_status.index, \n",
    "    y=delivery_status.values,\n",
    "    title=\"Delivery Status Distribution\",\n",
    "    labels={'x': 'Delivery Status', 'y': 'Number of Orders'}\n",
    ")\n",
    "fig.show()"
   ]
  },
  {
   "cell_type": "markdown",
   "id": "2efc41dd",
   "metadata": {},
   "source": [
    "Created `supply_chain_viz.py` under the `src` folder to handle chart preparations in a contained code space.  This keeps the `dashboard.py` cleaner and easier to read."
   ]
  }
 ],
 "metadata": {
  "language_info": {
   "name": "python"
  }
 },
 "nbformat": 4,
 "nbformat_minor": 5
}
