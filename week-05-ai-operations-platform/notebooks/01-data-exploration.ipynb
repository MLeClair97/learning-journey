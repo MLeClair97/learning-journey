{
 "cells": [
  {
   "cell_type": "markdown",
   "id": "693922c3",
   "metadata": {},
   "source": [
    "### Day 1: AI Operations Intelligence Platform Development\n",
    "\n",
    "Date: August 20, 2025\n",
    "\n",
    "Goal: Build foundation for AI-powered supply chain operations platform\n",
    "\n",
    "#### Project Setup & Architecture\n",
    "- Created new GitHub repository: `ai-operations-supply-chain-eval`\n",
    "- Established modular code structure with `src/` folders\n",
    "- Set up proper separation: data processing, AI insights, visualizations\n",
    "- Configured professional Streamlit application framework"
   ]
  },
  {
   "cell_type": "code",
   "execution_count": null,
   "id": "b51c90a2",
   "metadata": {},
   "outputs": [],
   "source": [
    "# Set up and data loading\n",
    "import pandas as pd\n",
    "import plotly.express as px\n",
    "import plotly.graph_objects as go\n",
    "import numpy as np"
   ]
  },
  {
   "cell_type": "markdown",
   "id": "f82113cb",
   "metadata": {},
   "source": [
    "### Data Integration\n",
    "\n",
    "- **Dataset:** Kaggle Supply Chain Logistics Dataset (50 transactions)\n",
    "- **Columns:** Product, Supplier, Warehouse Location, Logistics Partner, Shipping Method, Delivery Status, Total Cost, Delivery Date\n",
    "- **Data Processing:** Cleaned dates, calculated performance metrics, created business intelligence functions\n",
    "- **Enhancement:** Updated delivery dates to current timeframe for realistic demo"
   ]
  },
  {
   "cell_type": "code",
   "execution_count": null,
   "id": "68043719",
   "metadata": {},
   "outputs": [],
   "source": [
    "# Load the supply chain dataset\n",
    "df = pd.read_csv('../data/Supply_Chain_Logistics_Dataset.csv')\n",
    "print(f\"Dataset shape: {df.shape}\")\n",
    "df.head()"
   ]
  },
  {
   "cell_type": "markdown",
   "id": "15050723",
   "metadata": {},
   "source": [
    "Reviewing the data using a `data_test.py` script"
   ]
  },
  {
   "cell_type": "code",
   "execution_count": null,
   "id": "c8e24b80",
   "metadata": {},
   "outputs": [],
   "source": [
    "# Data Overview\n",
    "print(\"=== DATASET OVERVIEW ===\")\n",
    "print(f\"Total Records: {len(df)}\")\n",
    "print(f\"Columns: {list(df.columns)}\")\n",
    "print(f\"\\\\nData Types:\")  # Fixed: single backslash\n",
    "print(df.dtypes)\n",
    "print(f\"\\\\nMissing Values:\")  # Fixed: single backslash\n",
    "print(df.isnull().sum())"
   ]
  },
  {
   "cell_type": "code",
   "execution_count": null,
   "id": "e912aff2",
   "metadata": {},
   "outputs": [],
   "source": [
    "# Business Metrics Analysis\n",
    "print(\"=== KEY BUSINESS METRICS ===\")\n",
    "print(f\"Unique Suppliers: {df['Supplier'].nunique()}\")\n",
    "print(f\"Unique Products: {df['Product'].nunique()}\")\n",
    "print(f\"Unique Warehouses: {df['Warehouse Location'].nunique()}\")\n",
    "print(f\"Unique Logistics Partners: {df['Logistics Partner'].nunique()}\")\n",
    "print(f\"Total Cost: ${df['Total Cost'].sum():,.2f}\")"
   ]
  },
  {
   "cell_type": "code",
   "execution_count": null,
   "id": "9f5a63a0",
   "metadata": {},
   "outputs": [],
   "source": [
    "# Performance Analysis\n",
    "delivery_status = df['Delivery Status'].value_counts()\n",
    "print(\"=== DELIVERY PERFORMANCE ===\")\n",
    "for status, count in delivery_status.items():\n",
    "    pct = count / len(df) * 100\n",
    "    print(f\"{status}: {count} orders ({pct:.1f}%)\")"
   ]
  },
  {
   "cell_type": "markdown",
   "id": "bdf6b58d",
   "metadata": {},
   "source": [
    "Example of visualization"
   ]
  },
  {
   "cell_type": "code",
   "execution_count": null,
   "id": "8bc2cab1",
   "metadata": {},
   "outputs": [],
   "source": [
    "# Visualization Examples\n",
    "fig = px.bar(\n",
    "    x=delivery_status.index, \n",
    "    y=delivery_status.values,\n",
    "    title=\"Delivery Status Distribution\",\n",
    "    labels={'x': 'Delivery Status', 'y': 'Number of Orders'}\n",
    ")\n",
    "fig.show()"
   ]
  }
 ],
 "metadata": {
  "kernelspec": {
   "display_name": "Python 3",
   "language": "python",
   "name": "python3"
  },
  "language_info": {
   "codemirror_mode": {
    "name": "ipython",
    "version": 3
   },
   "file_extension": ".py",
   "mimetype": "text/x-python",
   "name": "python",
   "nbconvert_exporter": "python",
   "pygments_lexer": "ipython3",
   "version": "3.13.5"
  }
 },
 "nbformat": 4,
 "nbformat_minor": 5
}
