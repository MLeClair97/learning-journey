{
 "cells": [
  {
   "cell_type": "markdown",
   "id": "a7226302",
   "metadata": {},
   "source": [
    "### AI-Powered Analytics\n",
    "\n",
    "- **Risk Analysis Engine:** Built `generate_risk_analysis()` function\n",
    "- **Business Intelligence:** AI identifies root causes, financial impact, actionable recommendations\n",
    "- **Example Output:** \"FastTrans has 45.5% delay rate vs FleetPro at 11.1% - recommend shifting volume\"\n",
    "- **Integration:** Modular AI insights in `src/ai_insights/operations_analyzer.py`"
   ]
  },
  {
   "cell_type": "code",
   "execution_count": null,
   "id": "ab07335e",
   "metadata": {},
   "outputs": [],
   "source": [
    "# Example Python script in `generate_risk_analysis()` to analyze supply chain data and calculate risk factors\n",
    "\n",
    "total_orders = len(df)\n",
    "delayed_orders = len(df[df['Delivery Status'] == 'Delayed'])\n",
    "delayed_rate = (delayed_orders / total_orders * 100) if total_orders > 0 else 0"
   ]
  }
 ],
 "metadata": {
  "language_info": {
   "name": "python"
  }
 },
 "nbformat": 4,
 "nbformat_minor": 5
}
